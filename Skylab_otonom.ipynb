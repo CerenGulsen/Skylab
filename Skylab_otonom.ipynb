{
  "nbformat": 4,
  "nbformat_minor": 0,
  "metadata": {
    "colab": {
      "name": "Skylab_otonom.ipynb",
      "provenance": [],
      "collapsed_sections": [],
      "toc_visible": true,
      "authorship_tag": "ABX9TyM9kPCFQp4U+rgYbpx8ynDE",
      "include_colab_link": true
    },
    "kernelspec": {
      "name": "python3",
      "display_name": "Python 3"
    }
  },
  "cells": [
    {
      "cell_type": "markdown",
      "metadata": {
        "id": "view-in-github",
        "colab_type": "text"
      },
      "source": [
        "<a href=\"https://colab.research.google.com/github/CerenGulsen/a/blob/main/Skylab_otonom.ipynb\" target=\"_parent\"><img src=\"https://colab.research.google.com/assets/colab-badge.svg\" alt=\"Open In Colab\"/></a>"
      ]
    },
    {
      "cell_type": "code",
      "metadata": {
        "id": "HerEOCtRkLte"
      },
      "source": [
        "import numpy as np\n",
        "import pandas as pd\n",
        "import matplotlib.pyplot as plt\n",
        "import seaborn as sns\n",
        "from sklearn.neighbors import KNeighborsClassifier\n",
        "from sklearn.preprocessing import LabelEncoder\n",
        "from sklearn.model_selection import train_test_split\n",
        "from sklearn.linear_model import LinearRegression\n",
        "from sklearn.metrics import accuracy_score, mean_absolute_error, mean_squared_error"
      ],
      "execution_count": null,
      "outputs": []
    },
    {
      "cell_type": "code",
      "metadata": {
        "id": "mrGozyDnwqki"
      },
      "source": [
        "data = pd.read_csv('/data_sheeet.csv')     #Veri okuma"
      ],
      "execution_count": null,
      "outputs": []
    },
    {
      "cell_type": "code",
      "metadata": {
        "id": "8n2EMmz607iw"
      },
      "source": [
        "lbe = LabelEncoder() #Cinsiyeti sayıya dönüştürme\r\n",
        "data['new_gender'] = lbe.fit_transform(data['Gender']) #Kadın 0, erkek 1 oldu.\r\n",
        "data['new_color'] = lbe.fit_transform(data['Favorite Color']) #kalan değişkenleri sayıya dönüştürme\r\n",
        "data['new_music'] = lbe.fit_transform(data['Favorite Music Genre'])\r\n",
        "data['new_beverage'] = lbe.fit_transform(data['Favorite Beverage'])\r\n",
        "data['new_drink'] = lbe.fit_transform(data['Favorite Soft Drink'])"
      ],
      "execution_count": null,
      "outputs": []
    },
    {
      "cell_type": "code",
      "metadata": {
        "id": "pRmi7Foe1VIt"
      },
      "source": [
        "df = pd.DataFrame(data, columns = ['new_gender', 'new_color','new_music','new_beverage','new_drink']) #gereken değişkenlerle yeni veri seti oluşturma"
      ],
      "execution_count": null,
      "outputs": []
    },
    {
      "cell_type": "code",
      "metadata": {
        "id": "s0BiBjjhn3Ej"
      },
      "source": [
        "x,y = df.loc[:,df.columns != 'new_gender'], df.loc[:,'new_gender']\r\n",
        "x_train,x_test,y_train,y_test = train_test_split(x,y,test_size = 0.3,random_state = 1) #train ve test olarak veriyi 2'ye ayırma"
      ],
      "execution_count": null,
      "outputs": []
    },
    {
      "cell_type": "markdown",
      "metadata": {
        "id": "-sOnfIFhvgRE"
      },
      "source": [
        "###KNN Algoritması\r\n"
      ]
    },
    {
      "cell_type": "code",
      "metadata": {
        "id": "aCYXkkqd-Suj"
      },
      "source": [
        "#knn sınıflandırması\r\n",
        "knn = KNeighborsClassifier(n_neighbors=1)  \r\n",
        "knn.fit(x_train,y_train)\r\n",
        "prediction = knn.predict(x_test)"
      ],
      "execution_count": null,
      "outputs": []
    },
    {
      "cell_type": "code",
      "metadata": {
        "id": "s8mVxc53-Xnn",
        "colab": {
          "base_uri": "https://localhost:8080/"
        },
        "outputId": "3fa963f3-71af-448e-bb52-b78dbcb794a4"
      },
      "source": [
        "print('Prediction: {}'.format(prediction)) #Tahmini yazdır.\r\n",
        "print(\"Acurracy: \",knn.score(x_test,y_test)) #doğruluk oranını yazdır."
      ],
      "execution_count": null,
      "outputs": [
        {
          "output_type": "stream",
          "text": [
            "Prediction: [0 1 0 0 1 1 0 0 0 0 1 0 1 0 0 0 1 0 1 0]\n",
            "Acurracy:  0.65\n"
          ],
          "name": "stdout"
        }
      ]
    },
    {
      "cell_type": "code",
      "metadata": {
        "colab": {
          "base_uri": "https://localhost:8080/"
        },
        "id": "G9dw7tiupjFC",
        "outputId": "02157cda-fc48-46e8-b731-ae7d25edb68a"
      },
      "source": [
        "#knn'de en iyi doğruluk oranını bulma\r\n",
        "neig = np.arange(1, 25)\r\n",
        "train_accuracy = []\r\n",
        "test_accuracy = []\r\n",
        "for k in neig:\r\n",
        "  knn = KNeighborsClassifier(n_neighbors = k)\r\n",
        "  knn.fit(x_train,y_train)\r\n",
        "  train_accuracy.append(knn.score(x_train, y_train))\r\n",
        "  test_accuracy.append(knn.score(x_test, y_test))\r\n",
        "print(\"Best acuracy is =\", np.max(test_accuracy),\" k=\",1+test_accuracy.index(np.max(test_accuracy)))\r\n"
      ],
      "execution_count": null,
      "outputs": [
        {
          "output_type": "stream",
          "text": [
            "Best acuracy is = 0.65  k= 1\n"
          ],
          "name": "stdout"
        }
      ]
    },
    {
      "cell_type": "markdown",
      "metadata": {
        "id": "tadRmz88wRr_"
      },
      "source": [
        "###Regressyon"
      ]
    },
    {
      "cell_type": "code",
      "metadata": {
        "colab": {
          "base_uri": "https://localhost:8080/"
        },
        "id": "-NP4BJGpwXDf",
        "outputId": "447d908a-b3a0-4877-eff9-65df0e28c472"
      },
      "source": [
        "#Regressyon modeli oluşturma\r\n",
        "l_reg = LinearRegression()\r\n",
        "l_reg.fit(x_train, y_train)\r\n",
        "print(\"Regressyon modeli -> Y = {} + {}*x1 + {}*x2 + {}*x3 + {}*x4\".format(l_reg.intercept_, l_reg.coef_[0], l_reg.coef_[1], l_reg.coef_[2], l_reg.coef_[3]))"
      ],
      "execution_count": null,
      "outputs": [
        {
          "output_type": "stream",
          "text": [
            "Regressyon modeli -> Y = 0.6160847283574831 + -0.010235462137518003*x1 + -0.05903928637257886*x2 + -0.04871254403822781*x3 + 0.11702377935953157*x4\n"
          ],
          "name": "stdout"
        }
      ]
    },
    {
      "cell_type": "code",
      "metadata": {
        "id": "4KFLsRgLIm-r"
      },
      "source": [
        "y_test_predicted = l_reg.predict(x_test)"
      ],
      "execution_count": null,
      "outputs": []
    },
    {
      "cell_type": "code",
      "metadata": {
        "colab": {
          "base_uri": "https://localhost:8080/"
        },
        "id": "SSyY1CKmHwDf",
        "outputId": "9a954936-4989-4e85-bbc5-1ce7ffa70a28"
      },
      "source": [
        "print(mean_squared_error(y_test, y_test_predicted, squared=False))"
      ],
      "execution_count": null,
      "outputs": [
        {
          "output_type": "stream",
          "text": [
            "0.58683754349647\n"
          ],
          "name": "stdout"
        }
      ]
    },
    {
      "cell_type": "markdown",
      "metadata": {
        "id": "7D8zchyo4wGO"
      },
      "source": [
        "###SVM"
      ]
    },
    {
      "cell_type": "code",
      "metadata": {
        "id": "ST3QBUjf7Iq8"
      },
      "source": [
        "from sklearn.svm import SVC\r\n",
        "from sklearn.preprocessing import StandardScaler\r\n",
        "from sklearn.pipeline import Pipeline"
      ],
      "execution_count": null,
      "outputs": []
    },
    {
      "cell_type": "code",
      "metadata": {
        "id": "q9YhK3IZ5BoI"
      },
      "source": [
        "svm_model = SVC().fit(x_train,y_train)"
      ],
      "execution_count": null,
      "outputs": []
    },
    {
      "cell_type": "code",
      "metadata": {
        "id": "W2acFebv5BrJ"
      },
      "source": [
        "y_pred = svm_model.predict(x_test)"
      ],
      "execution_count": null,
      "outputs": []
    },
    {
      "cell_type": "code",
      "metadata": {
        "colab": {
          "base_uri": "https://localhost:8080/"
        },
        "id": "EqDKZgAi5B0z",
        "outputId": "55ac9a19-6a0b-4aa8-d33f-4faa7bf690cc"
      },
      "source": [
        "print(accuracy_score(y_test,y_pred))"
      ],
      "execution_count": null,
      "outputs": [
        {
          "output_type": "stream",
          "text": [
            "0.45\n"
          ],
          "name": "stdout"
        }
      ]
    }
  ]
}